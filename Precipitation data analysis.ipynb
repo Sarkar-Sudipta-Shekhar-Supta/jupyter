{
    "cells": [
        {
            "cell_type": "markdown",
            "metadata": {},
            "source": "# Description\nThis notebook analyzes & visualyzes precipitation data."
        },
        {
            "cell_type": "code",
            "execution_count": 1,
            "metadata": {},
            "outputs": [
                {
                    "data": {
                        "text/html": "<div>\n<style scoped>\n    .dataframe tbody tr th:only-of-type {\n        vertical-align: middle;\n    }\n\n    .dataframe tbody tr th {\n        vertical-align: top;\n    }\n\n    .dataframe thead th {\n        text-align: right;\n    }\n</style>\n<table border=\"1\" class=\"dataframe\">\n  <thead>\n    <tr style=\"text-align: right;\">\n      <th></th>\n      <th>Shipping Data</th>\n      <th>Unnamed: 1</th>\n      <th>Unnamed: 2</th>\n      <th>Unnamed: 3</th>\n      <th>Unnamed: 4</th>\n      <th>Unnamed: 5</th>\n      <th>Unnamed: 6</th>\n      <th>Unnamed: 7</th>\n      <th>Unnamed: 8</th>\n      <th>Unnamed: 9</th>\n      <th>...</th>\n      <th>Unnamed: 14</th>\n      <th>Unnamed: 15</th>\n      <th>Unnamed: 16</th>\n      <th>Unnamed: 17</th>\n      <th>Unnamed: 18</th>\n      <th>Unnamed: 19</th>\n      <th>Unnamed: 20</th>\n      <th>Unnamed: 21</th>\n      <th>Unnamed: 22</th>\n      <th>Unnamed: 23</th>\n    </tr>\n  </thead>\n  <tbody>\n    <tr>\n      <th>0</th>\n      <td>NaN</td>\n      <td>NaN</td>\n      <td>NaN</td>\n      <td>NaN</td>\n      <td>NaN</td>\n      <td>NaN</td>\n      <td>NaN</td>\n      <td>NaN</td>\n      <td>NaN</td>\n      <td>NaN</td>\n      <td>...</td>\n      <td>NaN</td>\n      <td>NaN</td>\n      <td>NaN</td>\n      <td>NaN</td>\n      <td>NaN</td>\n      <td>NaN</td>\n      <td>NaN</td>\n      <td>NaN</td>\n      <td>NaN</td>\n      <td>NaN</td>\n    </tr>\n    <tr>\n      <th>1</th>\n      <td>Order No</td>\n      <td>Order Date</td>\n      <td>Customer Name</td>\n      <td>Address</td>\n      <td>City</td>\n      <td>State</td>\n      <td>Customer Type</td>\n      <td>Account Manager</td>\n      <td>Order Priority</td>\n      <td>Product Name</td>\n      <td>...</td>\n      <td>Cost Price</td>\n      <td>Retail Price</td>\n      <td>Profit Margin</td>\n      <td>Order Quantity</td>\n      <td>Sub Total</td>\n      <td>Discount %</td>\n      <td>Discount $</td>\n      <td>Order Total</td>\n      <td>Shipping Cost</td>\n      <td>Total</td>\n    </tr>\n    <tr>\n      <th>2</th>\n      <td>5071-1</td>\n      <td>2013-05-05 00:00:00</td>\n      <td>Christopher Schild</td>\n      <td>4A Lyons St,Strathfield</td>\n      <td>Sydney</td>\n      <td>NSW</td>\n      <td>Corporate</td>\n      <td>Tina Carlton</td>\n      <td>Medium</td>\n      <td>Laser Neon Mac Format Diskettes, 10/Pack</td>\n      <td>...</td>\n      <td>1.87</td>\n      <td>2.2253</td>\n      <td>0.3553</td>\n      <td>41</td>\n      <td>91.2373</td>\n      <td>0.06</td>\n      <td>5.47424</td>\n      <td>85.7631</td>\n      <td>2.83</td>\n      <td>88.5931</td>\n    </tr>\n    <tr>\n      <th>3</th>\n      <td>5071-2</td>\n      <td>2013-05-05 00:00:00</td>\n      <td>Christopher Schild</td>\n      <td>4A Lyons St,Strathfield</td>\n      <td>Sydney</td>\n      <td>NSW</td>\n      <td>Corporate</td>\n      <td>Tina Carlton</td>\n      <td>Medium</td>\n      <td>Steady Liquid Accent Highlighters</td>\n      <td>...</td>\n      <td>3.47</td>\n      <td>6.68</td>\n      <td>3.21</td>\n      <td>2</td>\n      <td>13.36</td>\n      <td>0.01</td>\n      <td>0.1336</td>\n      <td>13.2264</td>\n      <td>1.5</td>\n      <td>14.7264</td>\n    </tr>\n    <tr>\n      <th>4</th>\n      <td>5145-1</td>\n      <td>2013-06-29 00:00:00</td>\n      <td>Cyma Kinney</td>\n      <td>Sydney Fish Market, Bank Street, Sydney</td>\n      <td>Sydney</td>\n      <td>NSW</td>\n      <td>Small Business</td>\n      <td>Phoebe Gour</td>\n      <td>Low</td>\n      <td>Alto Memo Cubes</td>\n      <td>...</td>\n      <td>3.32</td>\n      <td>5.18</td>\n      <td>1.86</td>\n      <td>1</td>\n      <td>5.18</td>\n      <td>0.02</td>\n      <td>0.1036</td>\n      <td>5.0764</td>\n      <td>2.04</td>\n      <td>7.1164</td>\n    </tr>\n  </tbody>\n</table>\n<p>5 rows \u00d7 24 columns</p>\n</div>",
                        "text/plain": "   Shipping Data           Unnamed: 1          Unnamed: 2  \\\n0            NaN                  NaN                 NaN   \n1       Order No           Order Date       Customer Name   \n2         5071-1  2013-05-05 00:00:00  Christopher Schild   \n3         5071-2  2013-05-05 00:00:00  Christopher Schild   \n4         5145-1  2013-06-29 00:00:00         Cyma Kinney   \n\n                                Unnamed: 3 Unnamed: 4 Unnamed: 5  \\\n0                                      NaN        NaN        NaN   \n1                                  Address       City      State   \n2                  4A Lyons St,Strathfield     Sydney        NSW   \n3                  4A Lyons St,Strathfield     Sydney        NSW   \n4  Sydney Fish Market, Bank Street, Sydney     Sydney        NSW   \n\n       Unnamed: 6       Unnamed: 7      Unnamed: 8  \\\n0             NaN              NaN             NaN   \n1   Customer Type  Account Manager  Order Priority   \n2       Corporate     Tina Carlton          Medium   \n3       Corporate     Tina Carlton          Medium   \n4  Small Business      Phoebe Gour             Low   \n\n                                 Unnamed: 9  ... Unnamed: 14   Unnamed: 15  \\\n0                                       NaN  ...         NaN           NaN   \n1                              Product Name  ...  Cost Price  Retail Price   \n2  Laser Neon Mac Format Diskettes, 10/Pack  ...        1.87        2.2253   \n3         Steady Liquid Accent Highlighters  ...        3.47          6.68   \n4                           Alto Memo Cubes  ...        3.32          5.18   \n\n     Unnamed: 16     Unnamed: 17 Unnamed: 18 Unnamed: 19 Unnamed: 20  \\\n0            NaN             NaN         NaN         NaN         NaN   \n1  Profit Margin  Order Quantity   Sub Total  Discount %  Discount $   \n2         0.3553              41     91.2373        0.06     5.47424   \n3           3.21               2       13.36        0.01      0.1336   \n4           1.86               1        5.18        0.02      0.1036   \n\n   Unnamed: 21    Unnamed: 22 Unnamed: 23  \n0          NaN            NaN         NaN  \n1  Order Total  Shipping Cost       Total  \n2      85.7631           2.83     88.5931  \n3      13.2264            1.5     14.7264  \n4       5.0764           2.04      7.1164  \n\n[5 rows x 24 columns]"
                    },
                    "execution_count": 1,
                    "metadata": {},
                    "output_type": "execute_result"
                }
            ],
            "source": "# The code was removed by Watson Studio for sharing."
        },
        {
            "cell_type": "code",
            "execution_count": null,
            "metadata": {},
            "outputs": [],
            "source": ""
        }
    ],
    "metadata": {
        "kernelspec": {
            "display_name": "Python 3.6",
            "language": "python",
            "name": "python3"
        },
        "language_info": {
            "codemirror_mode": {
                "name": "ipython",
                "version": 3
            },
            "file_extension": ".py",
            "mimetype": "text/x-python",
            "name": "python",
            "nbconvert_exporter": "python",
            "pygments_lexer": "ipython3",
            "version": "3.6.9"
        }
    },
    "nbformat": 4,
    "nbformat_minor": 1
}